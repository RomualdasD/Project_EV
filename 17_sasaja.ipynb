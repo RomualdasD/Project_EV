{
 "cells": [
  {
   "cell_type": "markdown",
   "metadata": {},
   "source": [
    "## Vartotojo sąsaja"
   ]
  },
  {
   "cell_type": "code",
   "execution_count": 5,
   "metadata": {},
   "outputs": [],
   "source": [
    "# Bibliotekų importavimas\n",
    "import tkinter as tk\n",
    "from tkinter import ttk\n",
    "import pandas as pd\n",
    "import numpy as np\n",
    "import joblib\n",
    "from IPython.display import display, clear_output\n",
    "import matplotlib.pyplot as plt\n",
    "from sklearn.metrics import mean_squared_error, r2_score\n",
    "from sklearn.linear_model import Ridge\n",
    "from sklearn.model_selection import train_test_split, GridSearchCV, cross_val_score\n",
    "from sklearn.preprocessing import StandardScaler, PolynomialFeatures\n"
   ]
  },
  {
   "cell_type": "code",
   "execution_count": 6,
   "metadata": {},
   "outputs": [],
   "source": [
    "# FUNKCIJOS\n",
    "# Funkcija prognozei gauti pagal vartotojo įvestis\n",
    "def predict_kiekis(reg_year, reg_men):\n",
    "    # Įkeliame PolynomialFeatures ir StandardScaler\n",
    "    \n",
    "    # # variantas 1 Ridge\n",
    "    poly = joblib.load('poly.pkl')\n",
    "    scaler = joblib.load('scaler.pkl')\n",
    "    loaded_model = joblib.load('regression_model.pkl')\n",
    "\n",
    "    # # # Geriausių parametrų variantas\n",
    "    # poly = joblib.load('knn_poly.pkl')\n",
    "    # scaler = joblib.load('knn_scaler.pkl')\n",
    "    # loaded_model = joblib.load('knn_model.pkl')\n",
    "\n",
    "    # Paruošiame duomenis\n",
    "    user_data = pd.DataFrame({\n",
    "        'PIRM_REG_METAI_LT': [reg_year],\n",
    "        'PIRM_REG_MEN_LT': [reg_men]\n",
    "    })\n",
    "\n",
    "    # Pritaikom polynomial savybes ir normalizavimą\n",
    "    user_data_poly = poly.transform(user_data)\n",
    "    user_data_scaled = scaler.transform(user_data_poly)\n",
    "\n",
    "    # Prognozuojam pagal užkrautą modelį\n",
    "    predicted_vol = loaded_model.predict(user_data_scaled)\n",
    "    return predicted_vol[0]\n",
    "\n",
    "# Funkcija duomenų įvedimui valdyti\n",
    "def gauti_prognoze():\n",
    "    pasirink_metai = metu_combobox.get()\n",
    "    pasirink_menuo = menuo_combobox.get()\n",
    "    if pasirink_metai and pasirink_menuo:\n",
    "        clear_output()\n",
    "        kiekis = predict_kiekis(pasirink_metai, pasirink_menuo)\n",
    "        forecast_label.config(text=f'Automobilių registracijų kiekio prognozė\\nData: {pasirink_metai}-{pasirink_menuo}\\nKiekis: {kiekis:.0f} vnt ', background='lightblue', font='courier 15 bold')\n",
    "       \n",
    "    else:\n",
    "        forecast_label.config('pasirinkite metus')\n"
   ]
  },
  {
   "cell_type": "code",
   "execution_count": 7,
   "metadata": {},
   "outputs": [],
   "source": [
    "# MAIN \n",
    "# sukuriame pagrindinį langą\n",
    "root = tk.Tk()\n",
    "root.title('Automobilių registracijų kiekio prognozė')\n",
    "root.geometry('600x400')\n",
    "root.configure(bg='lightblue')\n",
    "\n",
    "# Metų pasirinkimo langelis\n",
    "metai = [str(metai) for metai in range(2024, 2035)]\n",
    "metu_label = ttk.Label(root, text='pasirinkite metus:', background='lightblue', font='courier 20 bold')\n",
    "metu_label.pack(pady=5)\n",
    "metu_combobox = ttk.Combobox(root, values=metai, state='readonly')\n",
    "metu_combobox.pack(pady=5)\n",
    "metu_combobox.set(2024)\n",
    "\n",
    "# Mėnesio pasirinkimo langelis\n",
    "menuo = [str(menuo) for menuo in range(1, 13)]\n",
    "menuo_label = ttk.Label(root, text='pasirinkite mėnesį:', background='lightblue', font='courier 20 bold')\n",
    "menuo_label.pack(pady=5)\n",
    "menuo_combobox = ttk.Combobox(root, values=menuo, state='readonly')\n",
    "menuo_combobox.pack(pady=5)\n",
    "menuo_combobox.set(1)\n",
    "\n",
    "# Prognozės ir darbo baigimo mygtukai\n",
    "prognoze_mygtukas = ttk.Button(root, text='gauti prognoze', command=gauti_prognoze, width=50)\n",
    "prognoze_mygtukas.pack(pady=10)\n",
    "baigti_mygtukas = ttk.Button(root, text='baigti darba', command=root.destroy, width=50)\n",
    "baigti_mygtukas.pack(pady=0)\n",
    "\n",
    "# Informacijos (rezultatų) išvedimo vietos savybės\n",
    "forecast_label = ttk.Label(root, text='', background='lightblue')\n",
    "forecast_label.pack(pady=10)\n",
    "\n",
    "# Lango veikimo ciklas\n",
    "root.mainloop()\n"
   ]
  }
 ],
 "metadata": {
  "kernelspec": {
   "display_name": "Python 3",
   "language": "python",
   "name": "python3"
  },
  "language_info": {
   "codemirror_mode": {
    "name": "ipython",
    "version": 3
   },
   "file_extension": ".py",
   "mimetype": "text/x-python",
   "name": "python",
   "nbconvert_exporter": "python",
   "pygments_lexer": "ipython3",
   "version": "3.12.3"
  }
 },
 "nbformat": 4,
 "nbformat_minor": 2
}
