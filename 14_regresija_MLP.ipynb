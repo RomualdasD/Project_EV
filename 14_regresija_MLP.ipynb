{
 "cells": [
  {
   "cell_type": "markdown",
   "metadata": {},
   "source": [
    "## MLP regresija"
   ]
  },
  {
   "cell_type": "code",
   "execution_count": 1,
   "metadata": {},
   "outputs": [
    {
     "name": "stdout",
     "output_type": "stream",
     "text": [
      "KIEKIS               0\n",
      "PIRM_REG_METAI_LT    0\n",
      "PIRM_REG_MEN_LT      0\n",
      "dtype: int64\n"
     ]
    },
    {
     "name": "stderr",
     "output_type": "stream",
     "text": [
      "c:\\Users\\dakse\\AppData\\Local\\Programs\\Python\\Python312\\Lib\\site-packages\\sklearn\\model_selection\\_search.py:1113: RuntimeWarning: overflow encountered in square\n",
      "  (array - array_means[:, np.newaxis]) ** 2, axis=1, weights=weights\n",
      "c:\\Users\\dakse\\AppData\\Local\\Programs\\Python\\Python312\\Lib\\site-packages\\sklearn\\neural_network\\_multilayer_perceptron.py:690: ConvergenceWarning: Stochastic Optimizer: Maximum iterations (1000) reached and the optimization hasn't converged yet.\n",
      "  warnings.warn(\n"
     ]
    },
    {
     "name": "stdout",
     "output_type": "stream",
     "text": [
      "Geriausi parametrai: {'activation': 'relu', 'alpha': 0.0001, 'hidden_layer_sizes': (100, 100), 'learning_rate': 'constant', 'solver': 'adam'}\n"
     ]
    },
    {
     "name": "stderr",
     "output_type": "stream",
     "text": [
      "c:\\Users\\dakse\\AppData\\Local\\Programs\\Python\\Python312\\Lib\\site-packages\\sklearn\\neural_network\\_multilayer_perceptron.py:690: ConvergenceWarning: Stochastic Optimizer: Maximum iterations (1000) reached and the optimization hasn't converged yet.\n",
      "  warnings.warn(\n",
      "c:\\Users\\dakse\\AppData\\Local\\Programs\\Python\\Python312\\Lib\\site-packages\\sklearn\\neural_network\\_multilayer_perceptron.py:690: ConvergenceWarning: Stochastic Optimizer: Maximum iterations (1000) reached and the optimization hasn't converged yet.\n",
      "  warnings.warn(\n",
      "c:\\Users\\dakse\\AppData\\Local\\Programs\\Python\\Python312\\Lib\\site-packages\\sklearn\\neural_network\\_multilayer_perceptron.py:690: ConvergenceWarning: Stochastic Optimizer: Maximum iterations (1000) reached and the optimization hasn't converged yet.\n",
      "  warnings.warn(\n",
      "c:\\Users\\dakse\\AppData\\Local\\Programs\\Python\\Python312\\Lib\\site-packages\\sklearn\\neural_network\\_multilayer_perceptron.py:690: ConvergenceWarning: Stochastic Optimizer: Maximum iterations (1000) reached and the optimization hasn't converged yet.\n",
      "  warnings.warn(\n",
      "c:\\Users\\dakse\\AppData\\Local\\Programs\\Python\\Python312\\Lib\\site-packages\\sklearn\\neural_network\\_multilayer_perceptron.py:690: ConvergenceWarning: Stochastic Optimizer: Maximum iterations (1000) reached and the optimization hasn't converged yet.\n",
      "  warnings.warn(\n",
      "c:\\Users\\dakse\\AppData\\Local\\Programs\\Python\\Python312\\Lib\\site-packages\\sklearn\\neural_network\\_multilayer_perceptron.py:690: ConvergenceWarning: Stochastic Optimizer: Maximum iterations (1000) reached and the optimization hasn't converged yet.\n",
      "  warnings.warn(\n",
      "c:\\Users\\dakse\\AppData\\Local\\Programs\\Python\\Python312\\Lib\\site-packages\\sklearn\\neural_network\\_multilayer_perceptron.py:690: ConvergenceWarning: Stochastic Optimizer: Maximum iterations (1000) reached and the optimization hasn't converged yet.\n",
      "  warnings.warn(\n",
      "c:\\Users\\dakse\\AppData\\Local\\Programs\\Python\\Python312\\Lib\\site-packages\\sklearn\\neural_network\\_multilayer_perceptron.py:690: ConvergenceWarning: Stochastic Optimizer: Maximum iterations (1000) reached and the optimization hasn't converged yet.\n",
      "  warnings.warn(\n",
      "c:\\Users\\dakse\\AppData\\Local\\Programs\\Python\\Python312\\Lib\\site-packages\\sklearn\\neural_network\\_multilayer_perceptron.py:690: ConvergenceWarning: Stochastic Optimizer: Maximum iterations (1000) reached and the optimization hasn't converged yet.\n",
      "  warnings.warn(\n",
      "c:\\Users\\dakse\\AppData\\Local\\Programs\\Python\\Python312\\Lib\\site-packages\\sklearn\\neural_network\\_multilayer_perceptron.py:690: ConvergenceWarning: Stochastic Optimizer: Maximum iterations (1000) reached and the optimization hasn't converged yet.\n",
      "  warnings.warn(\n",
      "c:\\Users\\dakse\\AppData\\Local\\Programs\\Python\\Python312\\Lib\\site-packages\\sklearn\\neural_network\\_multilayer_perceptron.py:690: ConvergenceWarning: Stochastic Optimizer: Maximum iterations (1000) reached and the optimization hasn't converged yet.\n",
      "  warnings.warn(\n",
      "c:\\Users\\dakse\\AppData\\Local\\Programs\\Python\\Python312\\Lib\\site-packages\\sklearn\\neural_network\\_multilayer_perceptron.py:690: ConvergenceWarning: Stochastic Optimizer: Maximum iterations (1000) reached and the optimization hasn't converged yet.\n",
      "  warnings.warn(\n",
      "c:\\Users\\dakse\\AppData\\Local\\Programs\\Python\\Python312\\Lib\\site-packages\\sklearn\\neural_network\\_multilayer_perceptron.py:690: ConvergenceWarning: Stochastic Optimizer: Maximum iterations (1000) reached and the optimization hasn't converged yet.\n",
      "  warnings.warn(\n",
      "c:\\Users\\dakse\\AppData\\Local\\Programs\\Python\\Python312\\Lib\\site-packages\\sklearn\\neural_network\\_multilayer_perceptron.py:690: ConvergenceWarning: Stochastic Optimizer: Maximum iterations (1000) reached and the optimization hasn't converged yet.\n",
      "  warnings.warn(\n",
      "c:\\Users\\dakse\\AppData\\Local\\Programs\\Python\\Python312\\Lib\\site-packages\\sklearn\\neural_network\\_multilayer_perceptron.py:690: ConvergenceWarning: Stochastic Optimizer: Maximum iterations (1000) reached and the optimization hasn't converged yet.\n",
      "  warnings.warn(\n"
     ]
    },
    {
     "data": {
      "image/png": "[encoded data removed]",
      "text/plain": [
       "<Figure size 1200x800 with 1 Axes>"
      ]
     },
     "metadata": {},
     "output_type": "display_data"
    },
    {
     "name": "stdout",
     "output_type": "stream",
     "text": [
      "Treniravimo MSE: 1979735.6131843212\n",
      "Testavimo MSE: 2367670.5406106575\n",
      "Treniravimo R2: 0.9285565591331908\n",
      "Testavimo R2: 0.9114976436601656\n",
      "Kryžminės validacijos (cv=5) R2 reikšmės: [0.76393499 0.70418565 0.71400874 0.78341462 0.77572369]\n",
      "Kryžminės validacijos (cv=5) vidutinis R2: 0.7482535379224486\n",
      "Kryžminės validacijos (cv=10) R2 reikšmės: [0.84106343 0.77349042 0.6978796  0.67445964 0.83468961 0.90102985\n",
      " 0.85018442 0.88498988 0.80288096 0.88990076]\n",
      "Kryžminės validacijos (cv=10) vidutinis R2: 0.815056856147101\n"
     ]
    }
   ],
   "source": [
    "import pandas as pd\n",
    "from sklearn.model_selection import train_test_split, GridSearchCV, cross_val_score\n",
    "from sklearn.neural_network import MLPRegressor\n",
    "from sklearn.preprocessing import StandardScaler, PolynomialFeatures\n",
    "from sklearn.metrics import mean_squared_error, r2_score\n",
    "import matplotlib.pyplot as plt\n",
    "from sklearn.inspection import permutation_importance\n",
    "import numpy as np\n",
    "\n",
    "# Įkeliame duomenis iš pateikto failo\n",
    "data = pd.read_csv(\"data_visi_v2.csv\")\n",
    "print(data.isnull().sum())\n",
    "\n",
    "# Užpildome trūkstamas reikšmes vidurkiu\n",
    "data.fillna(data.mean(), inplace=True)\n",
    "\n",
    "# Pasiruošiame duomenis (be 'mpg' stulpelio)\n",
    "X = data.drop(columns=['KIEKIS'])\n",
    "y = data['KIEKIS']\n",
    "\n",
    "# Padalijame į treniravimo ir testavimo rinkinius\n",
    "X_train, X_test, y_train, y_test = train_test_split(X, y, test_size=0.2, random_state=42)\n",
    "\n",
    "# Normalizuojame duomenis\n",
    "scaler = StandardScaler()\n",
    "X_train_scaled = scaler.fit_transform(X_train)\n",
    "X_test_scaled = scaler.transform(X_test)\n",
    "\n",
    "# Sukuriame polinominius požymius\n",
    "poly = PolynomialFeatures(degree=2, include_bias=False)\n",
    "X_train_poly = poly.fit_transform(X_train_scaled)\n",
    "X_test_poly = poly.transform(X_test_scaled)\n",
    "\n",
    "# Sukuriame MLP regresorių su hiperparametrų paieška\n",
    "param_grid = {\n",
    "    'hidden_layer_sizes': [(50, 50), (100, 50), (100, 100)],\n",
    "    'activation': ['tanh', 'relu'],\n",
    "    'solver': ['sgd', 'adam'],\n",
    "    'alpha': [0.0001, 0.05],\n",
    "    'learning_rate': ['constant', 'adaptive'],\n",
    "}\n",
    "\n",
    "mlp_regressor = MLPRegressor(max_iter=1000, random_state=42)\n",
    "\n",
    "grid_search = GridSearchCV(estimator=mlp_regressor, param_grid=param_grid, cv=5, scoring='r2', n_jobs=-1)\n",
    "grid_search.fit(X_train_poly, y_train)\n",
    "\n",
    "# Geriausi parametrai\n",
    "best_params = grid_search.best_params_\n",
    "print(f'Geriausi parametrai: {best_params}')\n",
    "\n",
    "# Geriausias modelis\n",
    "best_model = grid_search.best_estimator_\n",
    "\n",
    "# Atliekame prognozes su geriausiu modeliu\n",
    "y_train_pred = best_model.predict(X_train_poly)\n",
    "y_test_pred = best_model.predict(X_test_poly)\n",
    "\n",
    "# Vertiname modelį\n",
    "train_mse = mean_squared_error(y_train, y_train_pred)\n",
    "test_mse = mean_squared_error(y_test, y_test_pred)\n",
    "train_r2 = r2_score(y_train, y_train_pred)\n",
    "test_r2 = r2_score(y_test, y_test_pred)\n",
    "\n",
    "# Kryžminė validacija su pilnu duomenų rinkiniu\n",
    "cv_scores_5 = cross_val_score(best_model, X_train_poly, y_train, cv=5, scoring='r2')\n",
    "cv_scores_10 = cross_val_score(best_model, X_train_poly, y_train, cv=10, scoring='r2')\n",
    "\n",
    "# Požymių svarbos vertinimas\n",
    "result = permutation_importance(best_model, X_test_poly, y_test, n_repeats=10, random_state=42)\n",
    "importance = result.importances_mean\n",
    "\n",
    "# Požymių svarbos vizualizacija\n",
    "features = poly.get_feature_names_out()\n",
    "indices = np.argsort(importance)[::-1]\n",
    "\n",
    "plt.figure(figsize=(12, 8))\n",
    "plt.title(\"Požymių Svarbos\")\n",
    "plt.bar(range(X_test_poly.shape[1]), importance[indices], align=\"center\")\n",
    "plt.xticks(range(X_test_poly.shape[1]), features[indices], rotation=90)\n",
    "plt.tight_layout()\n",
    "plt.show()\n",
    "\n",
    "# Rezultatų spausdinimas\n",
    "print(f'Treniravimo MSE: {train_mse}')\n",
    "print(f'Testavimo MSE: {test_mse}')\n",
    "print(f'Treniravimo R2: {train_r2}')\n",
    "print(f'Testavimo R2: {test_r2}')\n",
    "\n",
    "print(f'Kryžminės validacijos (cv=5) R2 reikšmės: {cv_scores_5}')\n",
    "print(f'Kryžminės validacijos (cv=5) vidutinis R2: {cv_scores_5.mean()}')\n",
    "\n",
    "print(f'Kryžminės validacijos (cv=10) R2 reikšmės: {cv_scores_10}')\n",
    "print(f'Kryžminės validacijos (cv=10) vidutinis R2: {cv_scores_10.mean()}')\n"
   ]
  },
  {
   "cell_type": "code",
   "execution_count": null,
   "metadata": {},
   "outputs": [],
   "source": [
    "# Po ........ 36 min \n",
    "# Treniravimo MSE: 1979735.6131843212\n",
    "# Testavimo MSE: 2367670.5406106575\n",
    "# Treniravimo R2: 0.9285565591331908\n",
    "# Testavimo R2: 0.9114976436601656\n",
    "# Kryžminės validacijos (cv=5) R2 reikšmės: [0.76393499 0.70418565 0.71400874 0.78341462 0.77572369]\n",
    "# Kryžminės validacijos (cv=5) vidutinis R2: 0.7482535379224486\n",
    "# Kryžminės validacijos (cv=10) R2 reikšmės: [0.84106343 0.77349042 0.6978796  0.67445964 0.83468961 0.90102985\n",
    "#  0.85018442 0.88498988 0.80288096 0.88990076]\n",
    "# Kryžminės validacijos (cv=10) vidutinis R2: 0.815056856147101"
   ]
  }
 ],
 "metadata": {
  "kernelspec": {
   "display_name": "Python 3",
   "language": "python",
   "name": "python3"
  },
  "language_info": {
   "codemirror_mode": {
    "name": "ipython",
    "version": 3
   },
   "file_extension": ".py",
   "mimetype": "text/x-python",
   "name": "python",
   "nbconvert_exporter": "python",
   "pygments_lexer": "ipython3",
   "version": "3.12.3"
  }
 },
 "nbformat": 4,
 "nbformat_minor": 2
}
